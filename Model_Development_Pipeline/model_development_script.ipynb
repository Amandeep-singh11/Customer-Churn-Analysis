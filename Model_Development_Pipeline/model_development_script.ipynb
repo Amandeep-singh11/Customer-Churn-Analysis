{
 "cells": [
  {
   "cell_type": "code",
   "execution_count": 2,
   "metadata": {},
   "outputs": [],
   "source": [
    "import pandas as pd\n",
    "import numpy as np\n",
    "from sklearn.model_selection import train_test_split\n",
    "from sklearn.linear_model import LogisticRegression\n",
    "from sklearn.metrics import accuracy_score\n",
    "from sklearn.metrics import confusion_matrix\n",
    "from sklearn.metrics import classification_report\n",
    "import pickle\n",
    "import boto\n",
    "from boto.s3.key import Key\n",
    "from boto.s3.connection import Location\n",
    "import os, sys, time"
   ]
  },
  {
   "cell_type": "code",
   "execution_count": 40,
   "metadata": {},
   "outputs": [],
   "source": [
    "def functions_ignitor(AWS_ACCESS_KEY_ID, AWS_SECRET_ACCESS_KEY):\n",
    "    if not os.path.exists('trainDataFromS3'):\n",
    "        os.makedirs('trainDataFromS3')\n",
    "    print('MAIN FUNCTION TRIGGERED')\n",
    "    download_filePath = downloadFromS3(AWS_ACCESS_KEY_ID, AWS_SECRET_ACCESS_KEY)\n",
    "    print('DOWNLOADED DATA DUMP FROM S3')\n",
    "    X_train, X_test, y_train, y_test = data_transformation(download_filePath)\n",
    "    print('DATA TRANSFORMATION COMPLETED')\n",
    "    upload_filePath = train_pickle_model(X_train, X_test, y_train, y_test)\n",
    "    print('TRAINED & PICKLED MODEL')\n",
    "    uploadToS3(AWS_ACCESS_KEY_ID, AWS_SECRET_ACCESS_KEY, upload_filePath)\n",
    "    print('UPLOADED PICKLE TO S3')\n",
    "\n",
    "\n",
    "def downloadFromS3(AWS_ACCESS_KEY_ID, AWS_SECRET_ACCESS_KEY):\n",
    "    bucket_name = 'ads-final-project-data-dump'\n",
    "    conn = boto.connect_s3(AWS_ACCESS_KEY_ID, AWS_SECRET_ACCESS_KEY)\n",
    "    bucket = conn.get_bucket(bucket_name)\n",
    "    bucket_list = bucket.list()\n",
    "    for l in bucket_list:\n",
    "        print('l: ', l)\n",
    "        keyString = str(l.key)\n",
    "        print('keyString: ', keyString)\n",
    "        download_filePath = 'trainDataFromS3/'+keyString\n",
    "        l.get_contents_to_filename('trainDataFromS3/'+keyString)\n",
    "\n",
    "    return download_filePath\n",
    "\n",
    "def uploadToS3(AWS_ACCESS_KEY_ID, AWS_SECRET_ACCESS_KEY, upload_filePath, destinationPath = ''):\n",
    "    bucket_name = 'ads-final-project'\n",
    "    conn = boto.connect_s3(AWS_ACCESS_KEY_ID,AWS_SECRET_ACCESS_KEY)\n",
    "    bucket = conn.create_bucket(bucket_name,location=boto.s3.connection.Location.DEFAULT)\n",
    "    print ('Uploading '+upload_filePath+' to Amazon S3 bucket '+bucket_name)\n",
    "    def percent_cb(complete, total):\n",
    "        sys.stdout.write('.')\n",
    "        sys.stdout.flush()   \n",
    "    k = Key(bucket)\n",
    "    k.key = destinationPath+\"/\"+upload_filePath\n",
    "    k.set_contents_from_filename(upload_filePath, cb = percent_cb, num_cb = 10)\n",
    "    print('Uploaded')\n",
    "\n",
    "def data_transformation(download_filePath):\n",
    "    df = pd.read_csv(download_filePath)\n",
    "    #Replacing empty spaces with Null values\n",
    "    df = df.replace(r'^\\s+$', np.nan, regex=True)\n",
    "    # Dropping NA values\n",
    "    df = df.dropna()\n",
    "    # Change the 'SeniorCitizen' variable from interger to categorial\n",
    "    df['SeniorCitizen']=pd.Categorical(df['SeniorCitizen'])\n",
    "    # Change the 'TotalCharges' variable from object to interger \n",
    "    df['TotalCharges']=pd.to_numeric(df['TotalCharges'])\n",
    "    # Deleting the custumerID column\n",
    "    del df[\"customerID\"]\n",
    "    #Splitting data according to datatypes\n",
    "    num = ['float64', 'int64']\n",
    "    num_df = df.select_dtypes(include=num)\n",
    "    obj_df = df.select_dtypes(exclude=num)\n",
    "    # Add the 'Churn' variable in numeric dataset\n",
    "    num_df = pd.concat([num_df,df[\"Churn\"]],axis=1)\n",
    "    #Creating bins and plotting Countplot for 'tenure'\n",
    "    tenure_bins=pd.cut(num_df[\"tenure\"], bins=[0,20,60,80], labels=['low','medium','high'])\n",
    "    #Creating bins and plotting Countplot for 'MonthlyCharges'\n",
    "    MonthlyCharges_bins=pd.cut(num_df[\"MonthlyCharges\"], bins=[0,35,60,130], labels=['low','medium','high'])\n",
    "    #Creating bins and plotting Countplot for 'MonthlyCharges'\n",
    "    TotalCharges_bins=pd.cut(num_df[\"TotalCharges\"], bins=[0,1000,4000,10000], labels=['low','medium','high'])\n",
    "    #Saving bins into dataframe\n",
    "    bins=pd.DataFrame([tenure_bins, MonthlyCharges_bins, TotalCharges_bins]).T\n",
    "    #Converting SeniorCitizen variable into categorical and mapping values of 1 & 0 to Yes & No respectively\n",
    "    df['SeniorCitizen'] = df.SeniorCitizen.map({0:'No', 1:'Yes'})\n",
    "    # Concatenate bins with object variables\n",
    "    df=pd.concat([bins,obj_df],axis=1)\n",
    "    # Convert all the variables into categorical\n",
    "    for i in list(df.columns):\n",
    "        df[i] = pd.Categorical(df[i]) \n",
    "    dummy = pd.get_dummies(df) # Transform the categorical variables into dummy variables\n",
    "    # Split training and testing dataset\n",
    "    features = dummy.drop([\"Churn_Yes\", \"Churn_No\"], axis=1).columns\n",
    "    print(features)\n",
    "    X = dummy[features]\n",
    "    y = dummy[\"Churn_Yes\"]\n",
    "    X_train, X_test, y_train, y_test = train_test_split(X, y, test_size=0.20, random_state=7)\n",
    "\n",
    "    return X_train, X_test, y_train, y_test\n",
    "\n",
    "def train_pickle_model(X_train, X_test, y_train, y_test):\n",
    "    # Training Logistic Regression Mode\n",
    "    logistic_regression = LogisticRegression()\n",
    "    logistic_regression.fit(X_train, y_train)\n",
    "    predictions = logistic_regression.predict(X_test)\n",
    "    print(accuracy_score(y_test, predictions))\n",
    "    print(confusion_matrix(y_test, predictions))\n",
    "    print(classification_report(y_test, predictions))\n",
    "\n",
    "    upload_filePath = 'logistic_regression.pkl'\n",
    "\n",
    "    with open(upload_filePath, \"wb\") as fp:\n",
    "        pickle.dump(logistic_regression, fp, protocol=2)\n",
    "\n",
    "    return upload_filePath"
   ]
  },
  {
   "cell_type": "code",
   "execution_count": null,
   "metadata": {},
   "outputs": [],
   "source": [
    "AWS_ACCESS_KEY_ID = sys.argv[1]\n",
    "AWS_SECRET_ACCESS_KEY = sys.argv[2]\n",
    "functions_ignitor(AWS_ACCESS_KEY_ID, AWS_SECRET_ACCESS_KEY)\n",
    "print('PROGRAM EXECUTED SUCCESSFULLY')"
   ]
  },
  {
   "cell_type": "code",
   "execution_count": 29,
   "metadata": {},
   "outputs": [],
   "source": [
    "import boto3\n",
    "S3 = boto3.client('s3', region_name='us-east-1')"
   ]
  },
  {
   "cell_type": "code",
   "execution_count": 30,
   "metadata": {},
   "outputs": [],
   "source": [
    "response = S3.get_object(Bucket='ads-final-project', Key='logistic_regression.pkl')"
   ]
  },
  {
   "cell_type": "code",
   "execution_count": 31,
   "metadata": {},
   "outputs": [
    {
     "data": {
      "text/plain": [
       "{'AcceptRanges': 'bytes',\n",
       " 'Body': <botocore.response.StreamingBody at 0x188709d2fd0>,\n",
       " 'ContentLength': 1581,\n",
       " 'ContentType': 'application/octet-stream',\n",
       " 'ETag': '\"8379587ef06ecc2dd3bab0c623609855\"',\n",
       " 'LastModified': datetime.datetime(2018, 4, 19, 0, 16, 47, tzinfo=tzutc()),\n",
       " 'Metadata': {},\n",
       " 'ResponseMetadata': {'HTTPHeaders': {'accept-ranges': 'bytes',\n",
       "   'content-length': '1581',\n",
       "   'content-type': 'application/octet-stream',\n",
       "   'date': 'Thu, 19 Apr 2018 04:45:40 GMT',\n",
       "   'etag': '\"8379587ef06ecc2dd3bab0c623609855\"',\n",
       "   'last-modified': 'Thu, 19 Apr 2018 00:16:47 GMT',\n",
       "   'server': 'AmazonS3',\n",
       "   'x-amz-id-2': 'UCucrJG++dm4j7+aKWW7Tm5GGMyNAZ2N+19A1ZO3IEgQxDizHEmnhFrQCzd5F5/arO4yip4r3X0=',\n",
       "   'x-amz-request-id': '42102C3EE350545F'},\n",
       "  'HTTPStatusCode': 200,\n",
       "  'HostId': 'UCucrJG++dm4j7+aKWW7Tm5GGMyNAZ2N+19A1ZO3IEgQxDizHEmnhFrQCzd5F5/arO4yip4r3X0=',\n",
       "  'RequestId': '42102C3EE350545F',\n",
       "  'RetryAttempts': 0}}"
      ]
     },
     "execution_count": 31,
     "metadata": {},
     "output_type": "execute_result"
    }
   ],
   "source": [
    "response"
   ]
  },
  {
   "cell_type": "code",
   "execution_count": 32,
   "metadata": {},
   "outputs": [],
   "source": [
    "model_str = response['Body'].read()"
   ]
  },
  {
   "cell_type": "code",
   "execution_count": 36,
   "metadata": {},
   "outputs": [],
   "source": [
    "df = pd.read_csv('trainDataFromS3/churn_test.csv')"
   ]
  },
  {
   "cell_type": "code",
   "execution_count": 38,
   "metadata": {},
   "outputs": [],
   "source": [
    "small_df = df.head(12)"
   ]
  },
  {
   "cell_type": "code",
   "execution_count": 39,
   "metadata": {},
   "outputs": [],
   "source": [
    "small_df.to_csv('small_test.csv', index=False)"
   ]
  },
  {
   "cell_type": "code",
   "execution_count": 41,
   "metadata": {},
   "outputs": [],
   "source": [
    "X_train, X_test, y_train, y_test = data_transformation('trainDataFromS3/churn_train.csv')"
   ]
  },
  {
   "cell_type": "code",
   "execution_count": 42,
   "metadata": {},
   "outputs": [
    {
     "data": {
      "text/plain": [
       "(4499, 52)"
      ]
     },
     "execution_count": 42,
     "metadata": {},
     "output_type": "execute_result"
    }
   ],
   "source": [
    "X_train.shape"
   ]
  },
  {
   "cell_type": "code",
   "execution_count": 56,
   "metadata": {},
   "outputs": [],
   "source": [
    "def script_data_transformation(data_dataframe):\n",
    "\tdf = data_dataframe\n",
    "\tdf = df.replace(r'^\\s+$', np.nan, regex=True)\n",
    "\tdf = df.dropna()\n",
    "\tdf['SeniorCitizen']=pd.Categorical(df['SeniorCitizen'])\n",
    "\tdf['TotalCharges']=pd.to_numeric(df['TotalCharges'])\n",
    "\tdel df[\"customerID\"]\n",
    "\tnum = ['float64', 'int64']\n",
    "\tnum_df = df.select_dtypes(include=num)\n",
    "\tobj_df = df.select_dtypes(exclude=num)\n",
    "\ttenure_bins=pd.cut(num_df[\"tenure\"], bins=[0,20,60,80], labels=['low','medium','high'])\n",
    "\tMonthlyCharges_bins=pd.cut(num_df[\"MonthlyCharges\"], bins=[0,35,60,130], labels=['low','medium','high'])\n",
    "\tTotalCharges_bins=pd.cut(num_df[\"TotalCharges\"], bins=[0,1000,4000,10000], labels=['low','medium','high'])\n",
    "\tbins=pd.DataFrame([tenure_bins, MonthlyCharges_bins, TotalCharges_bins]).T\n",
    "\tdf['SeniorCitizen'] = df.SeniorCitizen.map({0:'No', 1:'Yes'})\n",
    "\tdf=pd.concat([bins,obj_df],axis=1)\n",
    "\tfor i in list(df.columns):\n",
    "\t    df[i] = pd.Categorical(df[i]) \n",
    "\tdummy = pd.get_dummies(df)\n",
    "\n",
    "\t###########CHANGE WHEN \"CHURN\" COLUMN IS REMOVED################\n",
    "\tfeatures = dummy.drop([\"Churn_Yes\", \"Churn_No\"], axis=1).columns\n",
    "\tprint(features)\n",
    "\tdata_X = dummy[features]\n",
    "\tdata_y = dummy[\"Churn_Yes\"]\n",
    "\tprint('0) data_X.shape: ', data_X.shape)\n",
    "\n",
    "\treturn data_X, data_y\n",
    "\t###########CHANGE WHEN \"CHURN\" COLUMN IS REMOVED################"
   ]
  },
  {
   "cell_type": "code",
   "execution_count": 57,
   "metadata": {},
   "outputs": [],
   "source": [
    "data_dataframe = pd.read_csv('small_test.csv')"
   ]
  },
  {
   "cell_type": "code",
   "execution_count": 60,
   "metadata": {},
   "outputs": [],
   "source": [
    "big_dataframe = pd.read_csv('trainDataFromS3/churn_train.csv')"
   ]
  },
  {
   "cell_type": "code",
   "execution_count": 59,
   "metadata": {},
   "outputs": [
    {
     "data": {
      "text/plain": [
       "(12, 21)"
      ]
     },
     "execution_count": 59,
     "metadata": {},
     "output_type": "execute_result"
    }
   ],
   "source": [
    "data_dataframe.shape"
   ]
  },
  {
   "cell_type": "code",
   "execution_count": 61,
   "metadata": {},
   "outputs": [
    {
     "data": {
      "text/plain": [
       "(5634, 21)"
      ]
     },
     "execution_count": 61,
     "metadata": {},
     "output_type": "execute_result"
    }
   ],
   "source": [
    "big_dataframe.shape"
   ]
  },
  {
   "cell_type": "code",
   "execution_count": 58,
   "metadata": {},
   "outputs": [
    {
     "name": "stdout",
     "output_type": "stream",
     "text": [
      "Index(['tenure_low', 'tenure_medium', 'MonthlyCharges_high',\n",
      "       'MonthlyCharges_low', 'MonthlyCharges_medium', 'TotalCharges_high',\n",
      "       'TotalCharges_low', 'TotalCharges_medium', 'gender_Female',\n",
      "       'gender_Male', 'SeniorCitizen_0', 'SeniorCitizen_1', 'Partner_No',\n",
      "       'Partner_Yes', 'Dependents_No', 'Dependents_Yes', 'PhoneService_No',\n",
      "       'PhoneService_Yes', 'MultipleLines_No',\n",
      "       'MultipleLines_No phone service', 'MultipleLines_Yes',\n",
      "       'InternetService_DSL', 'InternetService_Fiber optic',\n",
      "       'InternetService_No', 'OnlineSecurity_No',\n",
      "       'OnlineSecurity_No internet service', 'OnlineSecurity_Yes',\n",
      "       'OnlineBackup_No', 'OnlineBackup_No internet service',\n",
      "       'OnlineBackup_Yes', 'DeviceProtection_No',\n",
      "       'DeviceProtection_No internet service', 'DeviceProtection_Yes',\n",
      "       'TechSupport_No', 'TechSupport_No internet service', 'TechSupport_Yes',\n",
      "       'StreamingTV_No', 'StreamingTV_No internet service', 'StreamingTV_Yes',\n",
      "       'StreamingMovies_No', 'StreamingMovies_No internet service',\n",
      "       'StreamingMovies_Yes', 'Contract_Month-to-month', 'Contract_One year',\n",
      "       'Contract_Two year', 'PaperlessBilling_No', 'PaperlessBilling_Yes',\n",
      "       'PaymentMethod_Bank transfer (automatic)',\n",
      "       'PaymentMethod_Credit card (automatic)',\n",
      "       'PaymentMethod_Electronic check', 'PaymentMethod_Mailed check'],\n",
      "      dtype='object')\n",
      "0) data_X.shape:  (12, 51)\n"
     ]
    }
   ],
   "source": [
    "data_X, data_y = script_data_transformation(data_dataframe)"
   ]
  },
  {
   "cell_type": "code",
   "execution_count": 62,
   "metadata": {},
   "outputs": [
    {
     "name": "stdout",
     "output_type": "stream",
     "text": [
      "Index(['tenure_high', 'tenure_low', 'tenure_medium', 'MonthlyCharges_high',\n",
      "       'MonthlyCharges_low', 'MonthlyCharges_medium', 'TotalCharges_high',\n",
      "       'TotalCharges_low', 'TotalCharges_medium', 'gender_Female',\n",
      "       'gender_Male', 'SeniorCitizen_0', 'SeniorCitizen_1', 'Partner_No',\n",
      "       'Partner_Yes', 'Dependents_No', 'Dependents_Yes', 'PhoneService_No',\n",
      "       'PhoneService_Yes', 'MultipleLines_No',\n",
      "       'MultipleLines_No phone service', 'MultipleLines_Yes',\n",
      "       'InternetService_DSL', 'InternetService_Fiber optic',\n",
      "       'InternetService_No', 'OnlineSecurity_No',\n",
      "       'OnlineSecurity_No internet service', 'OnlineSecurity_Yes',\n",
      "       'OnlineBackup_No', 'OnlineBackup_No internet service',\n",
      "       'OnlineBackup_Yes', 'DeviceProtection_No',\n",
      "       'DeviceProtection_No internet service', 'DeviceProtection_Yes',\n",
      "       'TechSupport_No', 'TechSupport_No internet service', 'TechSupport_Yes',\n",
      "       'StreamingTV_No', 'StreamingTV_No internet service', 'StreamingTV_Yes',\n",
      "       'StreamingMovies_No', 'StreamingMovies_No internet service',\n",
      "       'StreamingMovies_Yes', 'Contract_Month-to-month', 'Contract_One year',\n",
      "       'Contract_Two year', 'PaperlessBilling_No', 'PaperlessBilling_Yes',\n",
      "       'PaymentMethod_Bank transfer (automatic)',\n",
      "       'PaymentMethod_Credit card (automatic)',\n",
      "       'PaymentMethod_Electronic check', 'PaymentMethod_Mailed check'],\n",
      "      dtype='object')\n",
      "0) data_X.shape:  (5624, 52)\n"
     ]
    }
   ],
   "source": [
    "data_X, data_y = script_data_transformation(big_dataframe)"
   ]
  },
  {
   "cell_type": "code",
   "execution_count": null,
   "metadata": {},
   "outputs": [],
   "source": []
  }
 ],
 "metadata": {
  "kernelspec": {
   "display_name": "Python 3",
   "language": "python",
   "name": "python3"
  },
  "language_info": {
   "codemirror_mode": {
    "name": "ipython",
    "version": 3
   },
   "file_extension": ".py",
   "mimetype": "text/x-python",
   "name": "python",
   "nbconvert_exporter": "python",
   "pygments_lexer": "ipython3",
   "version": "3.6.4"
  }
 },
 "nbformat": 4,
 "nbformat_minor": 2
}
